{
 "cells": [
  {
   "cell_type": "code",
   "execution_count": null,
   "id": "857a78a6",
   "metadata": {},
   "outputs": [],
   "source": [
    "import numpy as np\n",
    "import random\n",
    "number = np.random.randint(1, 101)\n",
    "\n",
    "print(\"Альтер-эго компьютера загадало число в диапазоне от 1 до 100 \\n\")\n",
    "def BinarySearch(number):                      # функция бинарного поиска числа\n",
    "    low = 1                                    # нижняя граница диапазона\n",
    "    high = 100                                 # верхняя граница диапазона\n",
    "    predict = (low+high)//2                    # предполагаемое число\n",
    "    index = 0\n",
    "    global count\n",
    "    count = 1\n",
    "    while predict != number:                   # повторить цикл, если предполагаемое число не равно загаданному\n",
    "        predict = (low+high)//2\n",
    "        count += 1\n",
    "        print(\"Компьютер предполагает, что это число...\", predict)\n",
    "        if predict > number:                   # если предполагаемое число меньше, присвоить значение верхней границе\n",
    "            high = predict\n",
    "            print(\"Загаданное число меньше\")\n",
    "        elif predict < number:                 # если предполагаемое число больше, присвоить значение нижней границе\n",
    "            low = predict + 1\n",
    "            print(\"Загаданное число больше\")\n",
    "        elif predict == number:\n",
    "            print(\"Верно \\n \\n\")          \n",
    "    return index + count\n",
    "    return countBinarySearch(number)\n",
    "\n",
    "BinarySearch(number)\n",
    "\n",
    "def score_game(game_core):\n",
    "    count_ls = []\n",
    "    np.random.seed(1)\n",
    "    random_array = np.random.randint(1,101, size=(1000))\n",
    "    for number in random_array:\n",
    "        count_ls.append(game_core(number))        \n",
    "    score = int(np.mean(count_ls))\n",
    "    print(f\"Ваш алгоритм угадывает число в среднем за {score} попыток\")\n",
    "\n",
    "score_game(BinarySearch)"
   ]
  },
  {
   "cell_type": "code",
   "execution_count": null,
   "id": "a4e6bf3c",
   "metadata": {},
   "outputs": [],
   "source": []
  }
 ],
 "metadata": {
  "kernelspec": {
   "display_name": "Python 3",
   "language": "python",
   "name": "python3"
  },
  "language_info": {
   "codemirror_mode": {
    "name": "ipython",
    "version": 3
   },
   "file_extension": ".py",
   "mimetype": "text/x-python",
   "name": "python",
   "nbconvert_exporter": "python",
   "pygments_lexer": "ipython3",
   "version": "3.8.8"
  }
 },
 "nbformat": 4,
 "nbformat_minor": 5
}
